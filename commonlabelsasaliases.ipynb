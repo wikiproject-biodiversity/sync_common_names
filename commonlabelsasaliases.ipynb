{
 "cells": [
  {
   "cell_type": "code",
   "execution_count": 11,
   "metadata": {
    "id": "G9hUmg82MbpZ"
   },
   "outputs": [],
   "source": [
    "%%capture\n",
    "!pip install wikidataintegrator"
   ]
  },
  {
   "cell_type": "code",
   "execution_count": 12,
   "metadata": {
    "id": "uVBgfwigMiFp"
   },
   "outputs": [],
   "source": [
    "from wikidataintegrator import wdi_core, wdi_login, wdi_config\n",
    "from getpass import getpass"
   ]
  },
  {
   "cell_type": "code",
   "execution_count": 17,
   "metadata": {
    "id": "3S1fHrYiMru6"
   },
   "outputs": [],
   "source": [
    "query = \"\"\"SELECT DISTINCT ?commonname ?taxon  WHERE {\n",
    "   ?taxon p:P1843 [ ps:P1843 ?commonname ;\n",
    "                    prov:wasDerivedFrom ?ref ; ] .\n",
    "\n",
    "   \n",
    "   FILTER (lang(?commonname) = \"fr\")\n",
    "   BIND (lcase(?commonname) as ?lcasecommonname)\n",
    "   FILTER NOT EXISTS {{?taxon skos:altLabel ?commonname } UNION {?taxon rdfs:label ?commonname }\n",
    "                     {?taxon skos:altLabel ?lcasecommonname } UNION {?taxon rdfs:label ?lcasecommonname }}\n",
    "    \n",
    "}\n",
    "LIMIT 1\"\"\"\n",
    "\n",
    "common_names = wdi_core.WDItemEngine.execute_sparql_query(query=query, as_dataframe=True)"
   ]
  },
  {
   "cell_type": "code",
   "execution_count": 18,
   "metadata": {
    "id": "EfBCO2cXTHU9"
   },
   "outputs": [
    {
     "name": "stdout",
     "output_type": "stream",
     "text": [
      "Q2191959\n"
     ]
    }
   ],
   "source": [
    "for index, row in common_names.iterrows():\n",
    "    item = wdi_core.WDItemEngine(wd_item_id=row[\"taxon\"].replace(\"http://www.wikidata.org/entity/\", \"\"))\n",
    "    aliases = item.get_aliases(lang=\"fr\")\n",
    "    aliases.append(row[\"commonname\"])\n",
    "    item.set_aliases(aliases=aliases, lang=\"fr\")\n",
    "    print(item.write(login))"
   ]
  },
  {
   "cell_type": "code",
   "execution_count": 19,
   "metadata": {
    "id": "Z3kavWraUFqf"
   },
   "outputs": [],
   "source": [
    "aliases = item.get_aliases(lang=\"fr\")\n",
    "aliases.append(row[\"commonname\"])\n",
    "item.set_aliases(aliases=aliases, lang=\"fr\")"
   ]
  },
  {
   "cell_type": "code",
   "execution_count": 6,
   "metadata": {
    "colab": {
     "base_uri": "https://localhost:8080/"
    },
    "id": "Lg5q4UAqVGpF",
    "outputId": "94ddb4d0-8079-4505-e485-66abe4be1530"
   },
   "outputs": [
    {
     "name": "stdin",
     "output_type": "stream",
     "text": [
      " ········\n"
     ]
    }
   ],
   "source": [
    "WBUSER = \"Andrawaag\"\n",
    "WBPASS = getpass()\n",
    "login = wdi_login.WDLogin(WBUSER, WBPASS)"
   ]
  },
  {
   "cell_type": "code",
   "execution_count": 7,
   "metadata": {
    "colab": {
     "base_uri": "https://localhost:8080/",
     "height": 487
    },
    "id": "R_qPJ8O7Vflj",
    "outputId": "3805f7c1-401d-4714-f85c-cc6b42f9cd0a"
   },
   "outputs": [
    {
     "name": "stdout",
     "output_type": "stream",
     "text": [
      "Q28484\n"
     ]
    }
   ],
   "source": [
    "print(item.write(login))"
   ]
  },
  {
   "cell_type": "code",
   "execution_count": null,
   "metadata": {},
   "outputs": [],
   "source": []
  }
 ],
 "metadata": {
  "colab": {
   "name": "Untitled71.ipynb",
   "provenance": []
  },
  "kernelspec": {
   "display_name": "Python 3 (ipykernel)",
   "language": "python",
   "name": "python3"
  },
  "language_info": {
   "codemirror_mode": {
    "name": "ipython",
    "version": 3
   },
   "file_extension": ".py",
   "mimetype": "text/x-python",
   "name": "python",
   "nbconvert_exporter": "python",
   "pygments_lexer": "ipython3",
   "version": "3.10.4"
  }
 },
 "nbformat": 4,
 "nbformat_minor": 4
}
